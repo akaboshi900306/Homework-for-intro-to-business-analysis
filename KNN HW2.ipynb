{
 "cells": [
  {
   "cell_type": "code",
   "execution_count": 2,
   "metadata": {},
   "outputs": [
    {
     "name": "stdout",
     "output_type": "stream",
     "text": [
      "0    M\n",
      "1    M\n",
      "2    M\n",
      "3    M\n",
      "4    M\n",
      "Name: 1, dtype: object\n"
     ]
    }
   ],
   "source": [
    "# To write a Python 2/3 compatible codebase, the first step is to add this line to the top of each module\n",
    "from __future__ import division, print_function, unicode_literals\n",
    "\n",
    "# The simplest possible classifier is the nearest neighbor: given a new observation X_test, find in the training set (i.e.\n",
    "# the data used to train the estimator) the observation(s) with the closest feature vector.\n",
    "# This script illustrates the usage of kNN. \n",
    "\n",
    "# Import necessary libraries and specify that graphs should be plotted inline.\n",
    "%matplotlib inline\n",
    "import numpy as np\n",
    "import matplotlib.pyplot as plt\n",
    "from matplotlib.colors import ListedColormap\n",
    "from sklearn import neighbors, datasets\n",
    "import pandas as pd\n",
    "\n",
    "\n",
    "\n",
    "\n",
    "url=\"http://archive.ics.uci.edu/ml/machine-learning-databases/breast-cancer-wisconsin/wdbc.data\"\n",
    "c=pd.read_csv(url,header=None)\n",
    "c\n",
    "# Import iris data set\n",
    "# See 'ISOM 672_Decision Trees' for a description of this data set\n",
    "\n",
    "\n",
    "X = c.iloc[:,2:]  # we only take the first two features in order to easily visualize the results. \n",
    "                      # We could avoid this ugly slicing by using a two-dim dataset\n",
    "y = c.iloc[:,1]\n",
    "print(y.head())"
   ]
  },
  {
   "cell_type": "code",
   "execution_count": 3,
   "metadata": {},
   "outputs": [],
   "source": [
    "from sklearn.model_selection import train_test_split\n",
    "\n",
    "X_train, X_test, y_train, y_test = train_test_split(\n",
    "    X, y, test_size=0.3, random_state=1, stratify=y)"
   ]
  },
  {
   "cell_type": "code",
   "execution_count": 4,
   "metadata": {},
   "outputs": [
    {
     "name": "stdout",
     "output_type": "stream",
     "text": [
      "Labels counts in class M in y_train: [250 148]\n",
      "Labels counts in class B in y_train: 250\n",
      "Labels counts in class M in y_test: 64\n",
      "Labels counts in class B in y_test: 107\n"
     ]
    }
   ],
   "source": [
    "print('Labels counts in class M in y_train:', np.bincount(y_train=='M'))\n",
    "print('Labels counts in class B in y_train:', np.count_nonzero(y_train=='B'))\n",
    "print('Labels counts in class M in y_test:', np.count_nonzero(y_test=='M'))\n",
    "print('Labels counts in class B in y_test:', np.count_nonzero(y_test=='B'))\n",
    "                                                              "
   ]
  },
  {
   "cell_type": "code",
   "execution_count": 5,
   "metadata": {},
   "outputs": [],
   "source": [
    "from sklearn.preprocessing import StandardScaler\n",
    "\n",
    "sc = StandardScaler()\n",
    "sc.fit(X_train)\n",
    "X_train_std = sc.transform(X_train)\n",
    "X_test_std = sc.transform(X_test)"
   ]
  },
  {
   "cell_type": "code",
   "execution_count": 6,
   "metadata": {},
   "outputs": [],
   "source": [
    "from sklearn import neighbors, datasets\n",
    "\n",
    "knn = neighbors.KNeighborsClassifier(n_neighbors=3, \n",
    "                           p=2, \n",
    "                           metric='minkowski') #The default metric is minkowski, which is a generalization of the Euclidean distance\n",
    "                                               # with p=2 is equivalent to the standard Euclidean distance.\n",
    "knn = knn.fit(X_train_std, y_train)            # with p=1 is equivalent to the Mahattan distance."
   ]
  },
  {
   "cell_type": "code",
   "execution_count": 7,
   "metadata": {},
   "outputs": [
    {
     "data": {
      "text/plain": [
       "KNeighborsClassifier(algorithm='auto', leaf_size=30, metric='minkowski',\n",
       "           metric_params=None, n_jobs=1, n_neighbors=3, p=2,\n",
       "           weights='uniform')"
      ]
     },
     "execution_count": 7,
     "metadata": {},
     "output_type": "execute_result"
    }
   ],
   "source": [
    "knn"
   ]
  },
  {
   "cell_type": "code",
   "execution_count": 8,
   "metadata": {},
   "outputs": [
    {
     "name": "stdout",
     "output_type": "stream",
     "text": [
      "Accuracy (out-of-sample): 0.96\n",
      "Accuracy (in-sample): 0.99\n",
      "F1 score (out-of-sample):  0.9555629802873371\n",
      "F1 score (in-sample)    :  0.9864973978653675\n",
      "Kappa score (out-of-sample):  0.9112083673318003\n",
      "Kappa score (in-sample)    :  0.9729964447580536\n",
      "             precision    recall  f1-score   support\n",
      "\n",
      "          M       0.95      0.99      0.97       107\n",
      "          B       0.98      0.91      0.94        64\n",
      "\n",
      "avg / total       0.96      0.96      0.96       171\n",
      "\n"
     ]
    }
   ],
   "source": [
    "from sklearn.metrics import accuracy_score, f1_score, cohen_kappa_score, classification_report\n",
    "\n",
    "# Estimate the predicted values by applying the kNN algorithm\n",
    "y_pred = knn.predict(X_test_std)\n",
    "y_pred_insample = knn.predict(X_train_std)\n",
    "\n",
    "# Accuracy\n",
    "print('Accuracy (out-of-sample): %.2f' % accuracy_score(y_test, y_pred))\n",
    "print('Accuracy (in-sample): %.2f' % accuracy_score(y_train, y_pred_insample))\n",
    "\n",
    "# F1 score\n",
    "print('F1 score (out-of-sample): ', f1_score(y_test, y_pred, average='macro'))\n",
    "print('F1 score (in-sample)    : ', f1_score(y_train, y_pred_insample, average='macro'))\n",
    "\n",
    "# Kappa score\n",
    "print('Kappa score (out-of-sample): ', cohen_kappa_score(y_test, y_pred))\n",
    "print('Kappa score (in-sample)    : ', cohen_kappa_score(y_train, y_pred_insample))\n",
    "\n",
    "# Build a text report showing the main classification metrics (out-of-sample performance)\n",
    "print(classification_report(y_test, y_pred, target_names=[\"M\",\"B\"]))"
   ]
  },
  {
   "cell_type": "code",
   "execution_count": 11,
   "metadata": {},
   "outputs": [
    {
     "data": {
      "text/html": [
       "<div>\n",
       "<style scoped>\n",
       "    .dataframe tbody tr th:only-of-type {\n",
       "        vertical-align: middle;\n",
       "    }\n",
       "\n",
       "    .dataframe tbody tr th {\n",
       "        vertical-align: top;\n",
       "    }\n",
       "\n",
       "    .dataframe thead th {\n",
       "        text-align: right;\n",
       "    }\n",
       "</style>\n",
       "<table border=\"1\" class=\"dataframe\">\n",
       "  <thead>\n",
       "    <tr style=\"text-align: right;\">\n",
       "      <th></th>\n",
       "      <th>True benign</th>\n",
       "      <th>True malignant</th>\n",
       "    </tr>\n",
       "  </thead>\n",
       "  <tbody>\n",
       "    <tr>\n",
       "      <th>Predicted benign</th>\n",
       "      <td>106</td>\n",
       "      <td>1</td>\n",
       "    </tr>\n",
       "    <tr>\n",
       "      <th>Predicted malignant</th>\n",
       "      <td>6</td>\n",
       "      <td>58</td>\n",
       "    </tr>\n",
       "  </tbody>\n",
       "</table>\n",
       "</div>"
      ],
      "text/plain": [
       "                     True benign  True malignant\n",
       "Predicted benign             106               1\n",
       "Predicted malignant            6              58"
      ]
     },
     "execution_count": 11,
     "metadata": {},
     "output_type": "execute_result"
    }
   ],
   "source": [
    "from sklearn.metrics import accuracy_score, f1_score, classification_report,confusion_matrix\n",
    "Confusion_Matrix = pd.DataFrame(confusion_matrix(y_test,y_pred),columns=[\"True benign\",\"True malignant\"],index=[\"Predicted benign\",\"Predicted malignant\"])\n",
    "Confusion_Matrix"
   ]
  },
  {
   "cell_type": "code",
   "execution_count": null,
   "metadata": {},
   "outputs": [],
   "source": []
  }
 ],
 "metadata": {
  "kernelspec": {
   "display_name": "Python 3",
   "language": "python",
   "name": "python3"
  },
  "language_info": {
   "codemirror_mode": {
    "name": "ipython",
    "version": 3
   },
   "file_extension": ".py",
   "mimetype": "text/x-python",
   "name": "python",
   "nbconvert_exporter": "python",
   "pygments_lexer": "ipython3",
   "version": "3.6.5"
  }
 },
 "nbformat": 4,
 "nbformat_minor": 2
}
